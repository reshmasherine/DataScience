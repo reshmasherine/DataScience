{
 "cells": [
  {
   "cell_type": "markdown",
   "id": "9270e73c",
   "metadata": {},
   "source": [
    "<h1>Data Science Tools and Ecosystem</h1>"
   ]
  },
  {
   "cell_type": "markdown",
   "id": "1841a4e6",
   "metadata": {},
   "source": [
    "In this notebook, Data Science Tools and Ecosystem are summarized."
   ]
  },
  {
   "cell_type": "markdown",
   "id": "d6461fb6",
   "metadata": {},
   "source": [
    "Objectives:\n",
    "<ul>\n",
    "    <li>List popular languages of Data Science</li>\n",
    "    <li>List commonly used libraries in Data Science</li>\n",
    "    <li>List Tools used in Data Science</li>\n",
    "    <li>Examples of arithematics expression execution</li>\n",
    "    \n",
    "</ul>"
   ]
  },
  {
   "cell_type": "markdown",
   "id": "e3e05a27",
   "metadata": {},
   "source": [
    "Some of the popular languages that Data Scientists use are:\n",
    "<ol>\n",
    "<li>Python</li>\n",
    "<li>R</li>\n",
    "<li>SQL</li>\n",
    "<li>Scala</li>\n",
    "<li>C++</li>\n",
    "<li>Julia</li>\n",
    "<li>JAVA</li>\n",
    "</ol>"
   ]
  },
  {
   "cell_type": "markdown",
   "id": "c9bd4c70",
   "metadata": {},
   "source": [
    "Some of the commonly used libraries used by Data Scientists include:\n",
    "<ol>\n",
    "<li>Pandas</li>\n",
    "<li>Scikit-learn</li>\n",
    "<li>Seaborn</li>\n",
    "<li>Numpy</li>\n",
    "<li>Matplotlib</li>\n",
    "<li>TensorFlow</li>\n",
    "<li>Keras</li>\n",
    "</ol>"
   ]
  },
  {
   "cell_type": "markdown",
   "id": "fe0a7869",
   "metadata": {},
   "source": [
    "<table>\n",
    "<tr> <td>Data Science Tools</td></tr>\n",
    "<tr><td>Jupyter Notebook</td></tr>\n",
    "<tr><td>Visual Code Studio</td></tr>\n",
    "<tr><td>R Studio</tr><td>\n",
    "    \n",
    "</table>"
   ]
  },
  {
   "cell_type": "markdown",
   "id": "6c26a659",
   "metadata": {},
   "source": [
    "<h3>Below are the few examples of evaluating arithematic expressions in Python</h3>"
   ]
  },
  {
   "cell_type": "code",
   "execution_count": 3,
   "id": "71209a99",
   "metadata": {},
   "outputs": [
    {
     "name": "stdout",
     "output_type": "stream",
     "text": [
      "4\n"
     ]
    }
   ],
   "source": [
    "a=3\n",
    "b=1\n",
    "print(a+b)"
   ]
  },
  {
   "cell_type": "code",
   "execution_count": 4,
   "id": "f9edfcb9",
   "metadata": {},
   "outputs": [
    {
     "data": {
      "text/plain": [
       "16"
      ]
     },
     "execution_count": 4,
     "metadata": {},
     "output_type": "execute_result"
    }
   ],
   "source": [
    "6*2+4"
   ]
  },
  {
   "cell_type": "code",
   "execution_count": 5,
   "id": "a8d033ae",
   "metadata": {},
   "outputs": [
    {
     "data": {
      "text/plain": [
       "2.428571428571429"
      ]
     },
     "execution_count": 5,
     "metadata": {},
     "output_type": "execute_result"
    }
   ],
   "source": [
    "5/7*2+1"
   ]
  },
  {
   "cell_type": "code",
   "execution_count": 6,
   "id": "21cc0a6c",
   "metadata": {},
   "outputs": [
    {
     "data": {
      "text/plain": [
       "17"
      ]
     },
     "execution_count": 6,
     "metadata": {},
     "output_type": "execute_result"
    }
   ],
   "source": [
    "#This is an arithematic expression to multiply then add integers.\n",
    "(3*4)+5"
   ]
  },
  {
   "cell_type": "code",
   "execution_count": 9,
   "id": "21748265",
   "metadata": {},
   "outputs": [
    {
     "name": "stdout",
     "output_type": "stream",
     "text": [
      "200 minutes into hours is 3.3333333333333335\n"
     ]
    }
   ],
   "source": [
    "#converting minutes to hours\n",
    "hrs=200/60\n",
    "print(\"200 minutes into hours is\",hrs)"
   ]
  },
  {
   "cell_type": "markdown",
   "id": "da0fa3d4",
   "metadata": {},
   "source": [
    "<h2>Author</h2>\n",
    "Reshma Sherine S A"
   ]
  },
  {
   "cell_type": "code",
   "execution_count": null,
   "id": "40020faf",
   "metadata": {},
   "outputs": [],
   "source": []
  }
 ],
 "metadata": {
  "kernelspec": {
   "display_name": "Python 3 (ipykernel)",
   "language": "python",
   "name": "python3"
  },
  "language_info": {
   "codemirror_mode": {
    "name": "ipython",
    "version": 3
   },
   "file_extension": ".py",
   "mimetype": "text/x-python",
   "name": "python",
   "nbconvert_exporter": "python",
   "pygments_lexer": "ipython3",
   "version": "3.9.7"
  }
 },
 "nbformat": 4,
 "nbformat_minor": 5
}
